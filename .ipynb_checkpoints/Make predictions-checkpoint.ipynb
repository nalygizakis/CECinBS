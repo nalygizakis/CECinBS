{
 "cells": [
  {
   "cell_type": "markdown",
   "metadata": {
    "id": "view-in-github"
   },
   "source": [
    "<a href=\"https://colab.research.google.com/github/gbouzioto/chemical_polution/blob/main/notebooks/model_exploration.ipynb\" target=\"_parent\"><img src=\"https://colab.research.google.com/assets/colab-badge.svg\" alt=\"Open In Colab\"/></a>"
   ]
  },
  {
   "cell_type": "markdown",
   "metadata": {
    "id": "0pIA_GPjAZqN"
   },
   "source": [
    "## Import Statements"
   ]
  },
  {
   "cell_type": "code",
   "execution_count": 3,
   "metadata": {
    "id": "XbyZT9iGxPdK"
   },
   "outputs": [],
   "source": [
    "from keras import backend as K\n",
    "def recall_m(y_true, y_pred):\n",
    "    true_positives = K.sum(K.round(K.clip(y_true * y_pred, 0, 1)))\n",
    "    possible_positives = K.sum(K.round(K.clip(y_true, 0, 1)))\n",
    "    recall = true_positives / (possible_positives + K.epsilon())\n",
    "    return recall\n",
    "\n",
    "def precision_m(y_true, y_pred):\n",
    "    true_positives = K.sum(K.round(K.clip(y_true * y_pred, 0, 1)))\n",
    "    predicted_positives = K.sum(K.round(K.clip(y_pred, 0, 1)))\n",
    "    precision = true_positives / (predicted_positives + K.epsilon())\n",
    "    return precision\n",
    "\n",
    "def f1_m(y_true, y_pred):\n",
    "    precision = precision_m(y_true, y_pred)\n",
    "    recall = recall_m(y_true, y_pred)\n",
    "    return 2*((precision*recall)/(precision+recall+K.epsilon()))"
   ]
  },
  {
   "cell_type": "code",
   "execution_count": 4,
   "metadata": {
    "id": "z9qaEwiW5_KT"
   },
   "outputs": [],
   "source": [
    "import os\n",
    "import numpy\n",
    "numpy.random.seed(1337)\n",
    "import urllib\n",
    "import matplotlib.pyplot as plt\n",
    "import seaborn as sns\n",
    "import zipfile\n",
    "import tensorflow as tf\n",
    "import tensorflow_addons as tfa\n",
    "import os\n",
    "import PIL\n",
    "\n",
    "from tensorflow import keras\n",
    "from tensorflow.keras.applications import InceptionV3, MobileNetV2, ResNet50\n",
    "from tensorflow.keras.preprocessing import image\n",
    "from tensorflow.keras.models import Model\n",
    "from tensorflow.keras.layers import Dense, GlobalAveragePooling2D, Dropout\n",
    "from tensorflow.keras.utils import get_file\n",
    "from tensorflow import expand_dims\n",
    "from tensorflow.nn import softmax\n",
    "from tensorflow.keras.models import Sequential, save_model, load_model\n",
    "from sklearn.metrics import classification_report, confusion_matrix\n",
    "\n",
    "from tensorflow import keras\n",
    "from tensorflow.keras import layers\n",
    "from tensorflow.keras.models import Sequential\n",
    "#Tutorial https://www.tensorflow.org/tutorials/images/classification"
   ]
  },
  {
   "cell_type": "markdown",
   "metadata": {
    "id": "sTQAgmxDAuhZ"
   },
   "source": [
    "## Load Dataset"
   ]
  },
  {
   "cell_type": "code",
   "execution_count": 5,
   "metadata": {
    "id": "lOCgLHS3AuB7"
   },
   "outputs": [
    {
     "ename": "FileNotFoundError",
     "evalue": "[Errno 2] No such file or directory: '/content\\\\BlackSea.zip'",
     "output_type": "error",
     "traceback": [
      "\u001b[1;31m---------------------------------------------------------------------------\u001b[0m",
      "\u001b[1;31mFileNotFoundError\u001b[0m                         Traceback (most recent call last)",
      "\u001b[1;32mC:\\Users\\NIKIFO~1\\AppData\\Local\\Temp/ipykernel_24488/3667494550.py\u001b[0m in \u001b[0;36m<module>\u001b[1;34m\u001b[0m\n\u001b[0;32m      6\u001b[0m     \u001b[1;31m# download dataset if it does not exist\u001b[0m\u001b[1;33m\u001b[0m\u001b[1;33m\u001b[0m\u001b[1;33m\u001b[0m\u001b[0m\n\u001b[0;32m      7\u001b[0m     \u001b[0murl\u001b[0m \u001b[1;33m=\u001b[0m \u001b[1;34m'http://dsfp.chem.uoa.gr/BlackSea/Predicted%20spatial%20distribution%20dataset_different%20split%202.zip'\u001b[0m\u001b[1;33m\u001b[0m\u001b[1;33m\u001b[0m\u001b[0m\n\u001b[1;32m----> 8\u001b[1;33m     \u001b[0murllib\u001b[0m\u001b[1;33m.\u001b[0m\u001b[0mrequest\u001b[0m\u001b[1;33m.\u001b[0m\u001b[0murlretrieve\u001b[0m\u001b[1;33m(\u001b[0m\u001b[0murl\u001b[0m\u001b[1;33m,\u001b[0m \u001b[0mdataset_file\u001b[0m\u001b[1;33m)\u001b[0m\u001b[1;33m\u001b[0m\u001b[1;33m\u001b[0m\u001b[0m\n\u001b[0m\u001b[0;32m      9\u001b[0m     \u001b[1;31m# extract images\u001b[0m\u001b[1;33m\u001b[0m\u001b[1;33m\u001b[0m\u001b[1;33m\u001b[0m\u001b[0m\n\u001b[0;32m     10\u001b[0m     \u001b[1;32mwith\u001b[0m \u001b[0mzipfile\u001b[0m\u001b[1;33m.\u001b[0m\u001b[0mZipFile\u001b[0m\u001b[1;33m(\u001b[0m\u001b[0mdataset_file\u001b[0m\u001b[1;33m,\u001b[0m \u001b[1;34m'r'\u001b[0m\u001b[1;33m)\u001b[0m \u001b[1;32mas\u001b[0m \u001b[0mzip_ref\u001b[0m\u001b[1;33m:\u001b[0m\u001b[1;33m\u001b[0m\u001b[1;33m\u001b[0m\u001b[0m\n",
      "\u001b[1;32m~\\anaconda3\\envs\\Thesis\\lib\\urllib\\request.py\u001b[0m in \u001b[0;36murlretrieve\u001b[1;34m(url, filename, reporthook, data)\u001b[0m\n\u001b[0;32m    255\u001b[0m         \u001b[1;31m# Handle temporary file setup.\u001b[0m\u001b[1;33m\u001b[0m\u001b[1;33m\u001b[0m\u001b[1;33m\u001b[0m\u001b[0m\n\u001b[0;32m    256\u001b[0m         \u001b[1;32mif\u001b[0m \u001b[0mfilename\u001b[0m\u001b[1;33m:\u001b[0m\u001b[1;33m\u001b[0m\u001b[1;33m\u001b[0m\u001b[0m\n\u001b[1;32m--> 257\u001b[1;33m             \u001b[0mtfp\u001b[0m \u001b[1;33m=\u001b[0m \u001b[0mopen\u001b[0m\u001b[1;33m(\u001b[0m\u001b[0mfilename\u001b[0m\u001b[1;33m,\u001b[0m \u001b[1;34m'wb'\u001b[0m\u001b[1;33m)\u001b[0m\u001b[1;33m\u001b[0m\u001b[1;33m\u001b[0m\u001b[0m\n\u001b[0m\u001b[0;32m    258\u001b[0m         \u001b[1;32melse\u001b[0m\u001b[1;33m:\u001b[0m\u001b[1;33m\u001b[0m\u001b[1;33m\u001b[0m\u001b[0m\n\u001b[0;32m    259\u001b[0m             \u001b[0mtfp\u001b[0m \u001b[1;33m=\u001b[0m \u001b[0mtempfile\u001b[0m\u001b[1;33m.\u001b[0m\u001b[0mNamedTemporaryFile\u001b[0m\u001b[1;33m(\u001b[0m\u001b[0mdelete\u001b[0m\u001b[1;33m=\u001b[0m\u001b[1;32mFalse\u001b[0m\u001b[1;33m)\u001b[0m\u001b[1;33m\u001b[0m\u001b[1;33m\u001b[0m\u001b[0m\n",
      "\u001b[1;31mFileNotFoundError\u001b[0m: [Errno 2] No such file or directory: '/content\\\\BlackSea.zip'"
     ]
    }
   ],
   "source": [
    "project_dir = os.path.join('/', 'content')\n",
    "dataset_file = os.path.join(project_dir, 'BlackSea.zip')\n",
    "dataset_file_path = os.path.join(project_dir, 'BlackSea')\n",
    "\n",
    "if not os.path.isdir(dataset_file_path):\n",
    "    # download dataset if it does not exist\n",
    "    url = 'http://dsfp.chem.uoa.gr/BlackSea/Predicted%20spatial%20distribution%20dataset_different%20split%202.zip'\n",
    "    urllib.request.urlretrieve(url, dataset_file)\n",
    "    # extract images\n",
    "    with zipfile.ZipFile(dataset_file, 'r') as zip_ref:\n",
    "        zip_ref.extractall(dataset_file_path)\n",
    "\n",
    "dataset_train = os.path.join(dataset_file_path, 'train')\n",
    "dataset_evaluation = os.path.join(dataset_file_path, 'evaluation')"
   ]
  },
  {
   "cell_type": "code",
   "execution_count": 5,
   "metadata": {
    "colab": {
     "base_uri": "https://localhost:8080/",
     "height": 0
    },
    "id": "k3fKEBZS0BaQ",
    "outputId": "f2929160-f455-4fda-fcd9-593586cb94c9"
   },
   "outputs": [
    {
     "data": {
      "application/vnd.google.colaboratory.intrinsic+json": {
       "type": "string"
      },
      "text/plain": [
       "'/content/BlackSea/train'"
      ]
     },
     "execution_count": 5,
     "metadata": {},
     "output_type": "execute_result"
    }
   ],
   "source": [
    "dataset_train"
   ]
  },
  {
   "cell_type": "code",
   "execution_count": 6,
   "metadata": {
    "colab": {
     "base_uri": "https://localhost:8080/",
     "height": 0
    },
    "id": "c7bUOEw30BaR",
    "outputId": "e541a7b2-9cec-40a9-d3d3-48a305ffe9af"
   },
   "outputs": [
    {
     "data": {
      "application/vnd.google.colaboratory.intrinsic+json": {
       "type": "string"
      },
      "text/plain": [
       "'/content/BlackSea/evaluation'"
      ]
     },
     "execution_count": 6,
     "metadata": {},
     "output_type": "execute_result"
    }
   ],
   "source": [
    "dataset_evaluation"
   ]
  },
  {
   "cell_type": "markdown",
   "metadata": {
    "id": "F1EmdPK7A5Tj"
   },
   "source": [
    "## Train, Validation and Test Generators"
   ]
  },
  {
   "cell_type": "code",
   "execution_count": 7,
   "metadata": {
    "id": "GOzbLuAW2AG2"
   },
   "outputs": [],
   "source": [
    "batch_size = 32\n",
    "img_height = 150\n",
    "img_width = 150"
   ]
  },
  {
   "cell_type": "code",
   "execution_count": 8,
   "metadata": {
    "id": "lzdCiOx4B9vh"
   },
   "outputs": [],
   "source": [
    "datagen = image.ImageDataGenerator(\n",
    "    rescale=1./255,\n",
    "    shear_range=0.2,\n",
    "    zoom_range=0.2,\n",
    "    validation_split=0.2)"
   ]
  },
  {
   "cell_type": "code",
   "execution_count": 9,
   "metadata": {
    "colab": {
     "base_uri": "https://localhost:8080/"
    },
    "id": "Yf1__QmcA4qa",
    "outputId": "36d20423-e076-456e-d5b4-e9654f83f67f"
   },
   "outputs": [
    {
     "name": "stdout",
     "output_type": "stream",
     "text": [
      "Found 1126 images belonging to 3 classes.\n"
     ]
    }
   ],
   "source": [
    "train_generator = datagen.flow_from_directory(\n",
    "    dataset_train, \n",
    "    target_size=(img_height, img_width), \n",
    "    batch_size=batch_size, \n",
    "    class_mode='categorical', \n",
    "    subset='training')"
   ]
  },
  {
   "cell_type": "code",
   "execution_count": 10,
   "metadata": {
    "colab": {
     "base_uri": "https://localhost:8080/"
    },
    "id": "48IOOsS84H0R",
    "outputId": "d315634a-a4f6-4949-c438-a587341ab192"
   },
   "outputs": [
    {
     "name": "stdout",
     "output_type": "stream",
     "text": [
      "Found 1406 files belonging to 3 classes.\n",
      "Using 1125 files for training.\n"
     ]
    }
   ],
   "source": [
    "train_ds = tf.keras.preprocessing.image_dataset_from_directory(\n",
    "  'BlackSea/train',\n",
    "  validation_split=0.2,\n",
    "  subset=\"training\",\n",
    "  seed=123,\n",
    "  image_size=(img_height, img_width),\n",
    "  batch_size=batch_size)"
   ]
  },
  {
   "cell_type": "code",
   "execution_count": 11,
   "metadata": {
    "colab": {
     "base_uri": "https://localhost:8080/",
     "height": 0
    },
    "id": "cBmbVCBi7VxS",
    "outputId": "bf973d8d-c834-4713-ba9f-415ec39bfb79"
   },
   "outputs": [
    {
     "name": "stdout",
     "output_type": "stream",
     "text": [
      "['Danube', 'Dnieper', 'UnknownOrigin']\n"
     ]
    },
    {
     "data": {
      "image/png": "[encoded data removed]",
      "text/plain": [
       "<Figure size 1296x1296 with 3 Axes>"
      ]
     },
     "metadata": {
      "needs_background": "light"
     },
     "output_type": "display_data"
    }
   ],
   "source": [
    "class_names = train_ds.class_names\n",
    "print(class_names)\n",
    "\n",
    "plt.figure(figsize=(18, 18))\n",
    "for images, labels in train_ds.take(1):\n",
    "  for i in range(3):\n",
    "    ax = plt.subplot(3, 3, i + 1)\n",
    "    plt.imshow(images[i].numpy().astype(\"uint8\"))\n",
    "    plt.title(class_names[labels[i]])\n",
    "    plt.axis(\"off\")"
   ]
  },
  {
   "cell_type": "code",
   "execution_count": 12,
   "metadata": {
    "colab": {
     "base_uri": "https://localhost:8080/"
    },
    "id": "L-i9sojx0BaU",
    "outputId": "36a30d25-45c1-429b-9e2f-e14cdfcb3359"
   },
   "outputs": [
    {
     "name": "stdout",
     "output_type": "stream",
     "text": [
      "Found 280 images belonging to 3 classes.\n"
     ]
    }
   ],
   "source": [
    "validation_generator = datagen.flow_from_directory(\n",
    "    dataset_train, \n",
    "    target_size=(img_height, img_width), \n",
    "    batch_size=batch_size, \n",
    "    class_mode='categorical', \n",
    "    subset='validation')"
   ]
  },
  {
   "cell_type": "code",
   "execution_count": 13,
   "metadata": {
    "colab": {
     "base_uri": "https://localhost:8080/"
    },
    "id": "WWhKPEQH4MyV",
    "outputId": "6603abc9-aedd-485b-be1e-7663519a8751"
   },
   "outputs": [
    {
     "name": "stdout",
     "output_type": "stream",
     "text": [
      "Found 1406 files belonging to 3 classes.\n",
      "Using 281 files for validation.\n"
     ]
    }
   ],
   "source": [
    "val_ds = tf.keras.preprocessing.image_dataset_from_directory(\n",
    "  'BlackSea/train',\n",
    "  validation_split=0.2,\n",
    "  subset=\"validation\",\n",
    "  seed=123,\n",
    "  image_size=(img_height, img_width),\n",
    "  batch_size=batch_size)"
   ]
  },
  {
   "cell_type": "code",
   "execution_count": 14,
   "metadata": {
    "id": "PGS9G1yY7lTF"
   },
   "outputs": [],
   "source": [
    "#AUTOTUNE = tf.data.AUTOTUNE\n",
    "#\n",
    "#train_ds = train_ds.cache().shuffle(1000).prefetch(buffer_size=AUTOTUNE)\n",
    "#val_ds = val_ds.cache().prefetch(buffer_size=AUTOTUNE)"
   ]
  },
  {
   "cell_type": "code",
   "execution_count": 15,
   "metadata": {
    "colab": {
     "base_uri": "https://localhost:8080/"
    },
    "id": "EFlYlQW-0BaU",
    "outputId": "b0092c3d-7dac-4e2a-a2d7-a25e48641fe9"
   },
   "outputs": [
    {
     "name": "stdout",
     "output_type": "stream",
     "text": [
      "Found 224 images belonging to 3 classes.\n"
     ]
    }
   ],
   "source": [
    "test_generator = datagen.flow_from_directory(\n",
    "    dataset_evaluation, \n",
    "    target_size=(img_height, img_height), \n",
    "    batch_size=batch_size, \n",
    "    shuffle = False,\n",
    "    class_mode='categorical')"
   ]
  },
  {
   "cell_type": "code",
   "execution_count": 16,
   "metadata": {
    "colab": {
     "base_uri": "https://localhost:8080/"
    },
    "id": "U1R-mmwD4ahk",
    "outputId": "042e25ca-a684-4454-de1d-6bb79a53dd3d"
   },
   "outputs": [
    {
     "name": "stdout",
     "output_type": "stream",
     "text": [
      "Found 224 files belonging to 3 classes.\n"
     ]
    }
   ],
   "source": [
    "test_ds = tf.keras.preprocessing.image_dataset_from_directory(\n",
    "  'BlackSea/evaluation',\n",
    "  seed=123,\n",
    "  image_size=(img_height, img_width),\n",
    "  shuffle = False,\n",
    "  batch_size=batch_size)"
   ]
  },
  {
   "cell_type": "markdown",
   "metadata": {
    "id": "TJSJFYZb0BaV"
   },
   "source": [
    "The number of images are correct. We have in total 1406 which were split in training set (1126 images) and validation set (280 images). Finally there are 224 images as the test set."
   ]
  },
  {
   "cell_type": "code",
   "execution_count": 17,
   "metadata": {
    "colab": {
     "base_uri": "https://localhost:8080/"
    },
    "id": "KCOzteRGBUAd",
    "outputId": "7fd3910a-43ef-447d-f2cd-87e2a8eedb89"
   },
   "outputs": [
    {
     "name": "stdout",
     "output_type": "stream",
     "text": [
      "7\n"
     ]
    }
   ],
   "source": [
    "test_steps_per_epoch = numpy.math.ceil(test_generator.samples / test_generator.batch_size)\n",
    "print(test_steps_per_epoch)"
   ]
  },
  {
   "cell_type": "code",
   "execution_count": 18,
   "metadata": {
    "id": "AN3P4Glv7-14"
   },
   "outputs": [],
   "source": [
    "num_classes = 3"
   ]
  },
  {
   "cell_type": "markdown",
   "metadata": {
    "id": "0egjiA5w0BaZ"
   },
   "source": [
    "# 1.Basic tensorflow CNN"
   ]
  },
  {
   "cell_type": "code",
   "execution_count": 35,
   "metadata": {
    "id": "WEyY0lrz0Bab"
   },
   "outputs": [],
   "source": [
    "model_CNN1 = Sequential([\n",
    "  layers.experimental.preprocessing.Rescaling(1./255, input_shape=(img_height, img_width, 3)),\n",
    "  layers.Conv2D(16, 3, padding='same', activation='relu'),\n",
    "  layers.MaxPooling2D(),\n",
    "  layers.Conv2D(32, 3, padding='same', activation='relu'),\n",
    "  layers.MaxPooling2D(),\n",
    "  layers.Dropout(0.2),\n",
    "  layers.Flatten(),\n",
    "  layers.Dense(128, activation='relu'),\n",
    "  layers.Dense(num_classes)\n",
    "])"
   ]
  },
  {
   "cell_type": "code",
   "execution_count": 36,
   "metadata": {
    "id": "-iRqtbGO0Bab"
   },
   "outputs": [],
   "source": [
    "model_CNN1.compile(optimizer='adam',\n",
    "              loss=tf.keras.losses.SparseCategoricalCrossentropy(from_logits=True),\n",
    "               metrics=['acc', f1_m, precision_m, recall_m])"
   ]
  },
  {
   "cell_type": "code",
   "execution_count": 37,
   "metadata": {
    "colab": {
     "base_uri": "https://localhost:8080/"
    },
    "id": "emVI8BQU0Bab",
    "outputId": "8b348f28-afb1-4ad4-9f03-5a534a660cc2"
   },
   "outputs": [
    {
     "name": "stdout",
     "output_type": "stream",
     "text": [
      "Model: \"sequential_1\"\n",
      "_________________________________________________________________\n",
      " Layer (type)                Output Shape              Param #   \n",
      "=================================================================\n",
      " rescaling (Rescaling)       (None, 150, 150, 3)       0         \n",
      "                                                                 \n",
      " conv2d (Conv2D)             (None, 150, 150, 16)      448       \n",
      "                                                                 \n",
      " max_pooling2d (MaxPooling2D  (None, 75, 75, 16)       0         \n",
      " )                                                               \n",
      "                                                                 \n",
      " conv2d_1 (Conv2D)           (None, 75, 75, 32)        4640      \n",
      "                                                                 \n",
      " max_pooling2d_1 (MaxPooling  (None, 37, 37, 32)       0         \n",
      " 2D)                                                             \n",
      "                                                                 \n",
      " dropout (Dropout)           (None, 37, 37, 32)        0         \n",
      "                                                                 \n",
      " flatten_1 (Flatten)         (None, 43808)             0         \n",
      "                                                                 \n",
      " dense_2 (Dense)             (None, 128)               5607552   \n",
      "                                                                 \n",
      " dense_3 (Dense)             (None, 3)                 387       \n",
      "                                                                 \n",
      "=================================================================\n",
      "Total params: 5,613,027\n",
      "Trainable params: 5,613,027\n",
      "Non-trainable params: 0\n",
      "_________________________________________________________________\n"
     ]
    }
   ],
   "source": [
    "model_CNN1.summary()"
   ]
  },
  {
   "cell_type": "code",
   "execution_count": 38,
   "metadata": {
    "colab": {
     "base_uri": "https://localhost:8080/"
    },
    "id": "2Iyobyk_0Bac",
    "outputId": "da347541-c6a4-4e33-d0dd-76d8dace8d05"
   },
   "outputs": [
    {
     "name": "stdout",
     "output_type": "stream",
     "text": [
      "Epoch 1/100\n",
      "36/36 [==============================] - 24s 633ms/step - loss: 0.6758 - acc: 0.8462 - f1_m: 0.7455 - precision_m: 0.5666 - recall_m: 1.1285 - val_loss: 0.0259 - val_acc: 0.9929 - val_f1_m: 0.6879 - val_precision_m: 0.5156 - val_recall_m: 1.0533\n",
      "Epoch 2/100\n",
      "36/36 [==============================] - 23s 624ms/step - loss: 0.0500 - acc: 0.9884 - f1_m: 0.7071 - precision_m: 0.5476 - recall_m: 1.0127 - val_loss: 0.0281 - val_acc: 0.9893 - val_f1_m: 0.6686 - val_precision_m: 0.5061 - val_recall_m: 1.0000\n",
      "Epoch 3/100\n",
      "36/36 [==============================] - 25s 666ms/step - loss: 0.0461 - acc: 0.9867 - f1_m: 0.7115 - precision_m: 0.5544 - recall_m: 1.0058 - val_loss: 0.0148 - val_acc: 0.9964 - val_f1_m: 0.6639 - val_precision_m: 0.5067 - val_recall_m: 0.9926\n",
      "Epoch 4/100\n",
      "36/36 [==============================] - 23s 627ms/step - loss: 0.0456 - acc: 0.9858 - f1_m: 0.7012 - precision_m: 0.5435 - recall_m: 1.0090 - val_loss: 0.0147 - val_acc: 0.9929 - val_f1_m: 0.6663 - val_precision_m: 0.5045 - val_recall_m: 1.0134\n",
      "Epoch 5/100\n",
      "36/36 [==============================] - 23s 626ms/step - loss: 0.0401 - acc: 0.9884 - f1_m: 0.7069 - precision_m: 0.5536 - recall_m: 1.0015 - val_loss: 0.0148 - val_acc: 0.9929 - val_f1_m: 0.6684 - val_precision_m: 0.5024 - val_recall_m: 1.0060\n",
      "Epoch 6/100\n",
      "36/36 [==============================] - 23s 624ms/step - loss: 0.0537 - acc: 0.9822 - f1_m: 0.7112 - precision_m: 0.5508 - recall_m: 1.0108 - val_loss: 0.0167 - val_acc: 1.0000 - val_f1_m: 0.6655 - val_precision_m: 0.5054 - val_recall_m: 0.9926\n",
      "Epoch 7/100\n",
      "36/36 [==============================] - 23s 624ms/step - loss: 0.0446 - acc: 0.9893 - f1_m: 0.6994 - precision_m: 0.5430 - recall_m: 0.9972 - val_loss: 0.0267 - val_acc: 0.9964 - val_f1_m: 0.6739 - val_precision_m: 0.5152 - val_recall_m: 0.9842\n",
      "Epoch 8/100\n",
      "36/36 [==============================] - 23s 626ms/step - loss: 0.0522 - acc: 0.9858 - f1_m: 0.7111 - precision_m: 0.5507 - recall_m: 1.0148 - val_loss: 0.0393 - val_acc: 0.9893 - val_f1_m: 0.6696 - val_precision_m: 0.5078 - val_recall_m: 1.0284\n",
      "Epoch 9/100\n",
      "36/36 [==============================] - 23s 625ms/step - loss: 0.0539 - acc: 0.9867 - f1_m: 0.6967 - precision_m: 0.5405 - recall_m: 0.9974 - val_loss: 0.0134 - val_acc: 0.9964 - val_f1_m: 0.6632 - val_precision_m: 0.5039 - val_recall_m: 0.9907\n",
      "Epoch 10/100\n",
      "36/36 [==============================] - 23s 624ms/step - loss: 0.0392 - acc: 0.9876 - f1_m: 0.6918 - precision_m: 0.5364 - recall_m: 0.9970 - val_loss: 0.0092 - val_acc: 0.9964 - val_f1_m: 0.6622 - val_precision_m: 0.5003 - val_recall_m: 1.0003\n",
      "Epoch 11/100\n",
      "36/36 [==============================] - 23s 628ms/step - loss: 0.0390 - acc: 0.9858 - f1_m: 0.6982 - precision_m: 0.5436 - recall_m: 0.9985 - val_loss: 0.0119 - val_acc: 0.9964 - val_f1_m: 0.6591 - val_precision_m: 0.4976 - val_recall_m: 1.0014\n",
      "Epoch 12/100\n",
      "36/36 [==============================] - 23s 626ms/step - loss: 0.0413 - acc: 0.9867 - f1_m: 0.7078 - precision_m: 0.5531 - recall_m: 1.0035 - val_loss: 0.0140 - val_acc: 0.9964 - val_f1_m: 0.6579 - val_precision_m: 0.4983 - val_recall_m: 1.0108\n",
      "Epoch 13/100\n",
      "36/36 [==============================] - 23s 627ms/step - loss: 0.0400 - acc: 0.9858 - f1_m: 0.7102 - precision_m: 0.5510 - recall_m: 1.0074 - val_loss: 0.0150 - val_acc: 0.9964 - val_f1_m: 0.6644 - val_precision_m: 0.5048 - val_recall_m: 1.0033\n",
      "Epoch 14/100\n",
      "36/36 [==============================] - 23s 626ms/step - loss: 0.0362 - acc: 0.9884 - f1_m: 0.6995 - precision_m: 0.5460 - recall_m: 0.9993 - val_loss: 0.0111 - val_acc: 0.9964 - val_f1_m: 0.6653 - val_precision_m: 0.5012 - val_recall_m: 1.0000\n",
      "Epoch 15/100\n",
      "36/36 [==============================] - 23s 626ms/step - loss: 0.0380 - acc: 0.9893 - f1_m: 0.6957 - precision_m: 0.5403 - recall_m: 0.9991 - val_loss: 0.0137 - val_acc: 0.9964 - val_f1_m: 0.6619 - val_precision_m: 0.5033 - val_recall_m: 1.0065\n",
      "Epoch 16/100\n",
      "36/36 [==============================] - 23s 626ms/step - loss: 0.0402 - acc: 0.9893 - f1_m: 0.7060 - precision_m: 0.5496 - recall_m: 1.0049 - val_loss: 0.0183 - val_acc: 0.9964 - val_f1_m: 0.6605 - val_precision_m: 0.4992 - val_recall_m: 1.0000\n",
      "Epoch 17/100\n",
      "36/36 [==============================] - 23s 622ms/step - loss: 0.0355 - acc: 0.9876 - f1_m: 0.7009 - precision_m: 0.5440 - recall_m: 0.9991 - val_loss: 0.0088 - val_acc: 0.9964 - val_f1_m: 0.6591 - val_precision_m: 0.4965 - val_recall_m: 0.9931\n",
      "Epoch 18/100\n",
      "36/36 [==============================] - 23s 625ms/step - loss: 0.0307 - acc: 0.9893 - f1_m: 0.6988 - precision_m: 0.5443 - recall_m: 0.9963 - val_loss: 0.0129 - val_acc: 0.9964 - val_f1_m: 0.6657 - val_precision_m: 0.5055 - val_recall_m: 1.0062\n",
      "Epoch 19/100\n",
      "36/36 [==============================] - 23s 630ms/step - loss: 0.0362 - acc: 0.9876 - f1_m: 0.7015 - precision_m: 0.5465 - recall_m: 0.9959 - val_loss: 0.0104 - val_acc: 0.9964 - val_f1_m: 0.6601 - val_precision_m: 0.4978 - val_recall_m: 0.9988\n",
      "Epoch 20/100\n",
      "36/36 [==============================] - 23s 625ms/step - loss: 0.0341 - acc: 0.9884 - f1_m: 0.6988 - precision_m: 0.5428 - recall_m: 0.9943 - val_loss: 0.0093 - val_acc: 0.9964 - val_f1_m: 0.6563 - val_precision_m: 0.4977 - val_recall_m: 0.9899\n"
     ]
    }
   ],
   "source": [
    "history_CNN1 = model_CNN1.fit(train_ds,\n",
    "                    validation_data=val_ds,\n",
    "                    callbacks=[callback],\n",
    "                    epochs=epochs)"
   ]
  },
  {
   "cell_type": "code",
   "execution_count": 39,
   "metadata": {
    "colab": {
     "base_uri": "https://localhost:8080/"
    },
    "id": "vr39Ffrf0goB",
    "outputId": "9b008a93-e392-4fbc-ad4c-e83093055658"
   },
   "outputs": [
    {
     "name": "stdout",
     "output_type": "stream",
     "text": [
      "Test loss: 0.025816572830080986\n",
      "Test accuracy: 0.9955357313156128\n",
      "WARNING:tensorflow:Compiled the loaded model, but the compiled metrics have yet to be built. `model.compile_metrics` will be empty until you train or evaluate the model.\n",
      "INFO:tensorflow:Assets written to: ./model_CNN1/assets\n"
     ]
    }
   ],
   "source": [
    "score = model_CNN1.evaluate(test_ds, verbose=0)\n",
    "print(\"Test loss:\", score[0])\n",
    "print(\"Test accuracy:\", score[1])\n",
    "\n",
    "\n",
    "# Save the model\n",
    "filepath = './model_CNN1'\n",
    "save_model(model, filepath)\n",
    "\n",
    "# Load the model\n",
    "model = load_model(filepath, compile = False)"
   ]
  },
  {
   "cell_type": "code",
   "execution_count": 40,
   "metadata": {
    "colab": {
     "base_uri": "https://localhost:8080/",
     "height": 499
    },
    "id": "sOt2_T1F-vAJ",
    "outputId": "5b2cb629-fa2d-4539-d9de-5989459357ee"
   },
   "outputs": [
    {
     "data": {
      "image/png": "[encoded data removed]",
      "text/plain": [
       "<Figure size 576x576 with 2 Axes>"
      ]
     },
     "metadata": {
      "needs_background": "light"
     },
     "output_type": "display_data"
    }
   ],
   "source": [
    "acc = history_CNN1.history['f1_m']\n",
    "val_acc = history_CNN1.history['val_f1_m']\n",
    "\n",
    "loss = history_CNN1.history['loss']\n",
    "val_loss = history_CNN1.history['val_loss']\n",
    "\n",
    "epochs_range = range(len(acc))\n",
    "\n",
    "plt.figure(figsize=(8, 8))\n",
    "plt.subplot(1, 2, 1)\n",
    "plt.plot(epochs_range, acc, label='Training Accuracy')\n",
    "plt.plot(epochs_range, val_acc, label='Validation Accuracy')\n",
    "plt.legend(loc='lower right')\n",
    "plt.title('Training and Validation Accuracy')\n",
    "\n",
    "plt.subplot(1, 2, 2)\n",
    "plt.plot(epochs_range, loss, label='Training Loss')\n",
    "plt.plot(epochs_range, val_loss, label='Validation Loss')\n",
    "plt.legend(loc='upper right')\n",
    "plt.title('Training and Validation Loss')\n",
    "plt.show()"
   ]
  },
  {
   "cell_type": "code",
   "execution_count": 41,
   "metadata": {
    "colab": {
     "base_uri": "https://localhost:8080/"
    },
    "id": "9QnrNrEr0Bac",
    "outputId": "409cccae-046a-42a3-f107-7493647cd24b"
   },
   "outputs": [
    {
     "data": {
      "text/plain": [
       "array([0, 0, 0, 0, 0, 0, 0, 0, 0, 0, 0, 0, 0, 0, 0, 0, 0, 0, 0, 0, 0, 0,\n",
       "       0, 0, 0, 0, 0, 0, 0, 0, 0, 0, 0, 0, 0, 0, 0, 0, 0, 0, 0, 0, 0, 0,\n",
       "       0, 0, 0, 0, 0, 0, 0, 0, 0, 0, 0, 0, 0, 0, 0, 0, 0, 0, 0, 0, 0, 0,\n",
       "       0, 0, 0, 0, 0, 0, 0, 0, 0, 0, 0, 0, 0, 0, 0, 0, 0, 0, 0, 0, 0, 0,\n",
       "       0, 0, 0, 0, 0, 0, 0, 0, 0, 0, 0, 0, 0, 0, 0, 0, 0, 0, 0, 0, 0, 1,\n",
       "       1, 1, 1, 1, 1, 1, 1, 1, 1, 1, 1, 1, 1, 1, 1, 1, 1, 1, 1, 1, 1, 1,\n",
       "       1, 1, 1, 1, 1, 1, 1, 1, 1, 1, 1, 1, 1, 1, 1, 2, 1, 1, 1, 1, 1, 1,\n",
       "       1, 1, 1, 1, 1, 1, 1, 1, 1, 1, 1, 1, 1, 1, 1, 1, 1, 1, 1, 1, 1, 1,\n",
       "       1, 1, 1, 1, 1, 1, 1, 1, 1, 1, 1, 2, 2, 2, 2, 2, 2, 2, 2, 2, 2, 2,\n",
       "       2, 2, 2, 2, 2, 2, 2, 2, 2, 2, 2, 2, 2, 2, 2, 2, 2, 2, 2, 2, 2, 2,\n",
       "       2, 2, 2, 2])"
      ]
     },
     "execution_count": 41,
     "metadata": {},
     "output_type": "execute_result"
    }
   ],
   "source": [
    "predictions = model_CNN1.predict(test_ds, steps=test_steps_per_epoch)\n",
    "# Get most likely class\n",
    "predicted_classes = numpy.argmax(predictions, axis=1)\n",
    "predicted_classes"
   ]
  },
  {
   "cell_type": "code",
   "execution_count": null,
   "metadata": {},
   "outputs": [],
   "source": [
    "true_classes = test_generator.classes #true_classes = test_ds.class_names\n",
    "true_classes"
   ]
  },
  {
   "cell_type": "code",
   "execution_count": null,
   "metadata": {},
   "outputs": [],
   "source": [
    "class_labels = list(test_generator.class_indices.keys())\n",
    "class_labels"
   ]
  },
  {
   "cell_type": "code",
   "execution_count": null,
   "metadata": {},
   "outputs": [],
   "source": [
    "report = classification_report(true_classes, predicted_classes, target_names=class_labels, zero_division=0)\n",
    "print(report)\n",
    "cmrforest = confusion_matrix(true_classes, predicted_classes)\n",
    "plt.figure(figsize=(10,7))\n",
    "sns.heatmap(cmrforest ,annot=True , fmt = 'd')\n",
    "plt.xlabel('Predicted')\n",
    "plt.ylabel('Truth')\n",
    "plt.title('Confusion Report')\n",
    "plt.show()"
   ]
  },
  {
   "cell_type": "markdown",
   "metadata": {},
   "source": [
    "# Predictions"
   ]
  },
  {
   "cell_type": "code",
   "execution_count": null,
   "metadata": {},
   "outputs": [],
   "source": []
  }
 ],
 "metadata": {
  "colab": {
   "collapsed_sections": [
    "0pIA_GPjAZqN",
    "sTQAgmxDAuhZ",
    "F1EmdPK7A5Tj",
    "edLwUcxm0Bad",
    "yTIU2YsUChDj",
    "b-9AUv_sCzHK",
    "MBk9xGPbC3Bn"
   ],
   "name": "Model_construction_for_image_pattern_recognition_17Nov2021+15Dec_2nd different_split_of_data.ipynb",
   "provenance": [],
   "toc_visible": true
  },
  "kernelspec": {
   "display_name": "Python 3 (ipykernel)",
   "language": "python",
   "name": "python3"
  },
  "language_info": {
   "codemirror_mode": {
    "name": "ipython",
    "version": 3
   },
   "file_extension": ".py",
   "mimetype": "text/x-python",
   "name": "python",
   "nbconvert_exporter": "python",
   "pygments_lexer": "ipython3",
   "version": "3.8.11"
  }
 },
 "nbformat": 4,
 "nbformat_minor": 1
}
