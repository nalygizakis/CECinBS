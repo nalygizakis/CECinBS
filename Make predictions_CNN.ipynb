{
  "cells": [
    {
      "cell_type": "markdown",
      "metadata": {
        "id": "view-in-github"
      },
      "source": [
        "<a href=\"https://colab.research.google.com/github/gbouzioto/chemical_polution/blob/main/notebooks/model_exploration.ipynb\" target=\"_parent\"><img src=\"https://colab.research.google.com/assets/colab-badge.svg\" alt=\"Open In Colab\"/></a>"
      ]
    },
    {
      "cell_type": "markdown",
      "metadata": {
        "id": "0pIA_GPjAZqN"
      },
      "source": [
        "## Import Statements"
      ]
    },
    {
      "cell_type": "code",
      "source": [
        "pip install tensorflow_addons"
      ],
      "metadata": {
        "colab": {
          "base_uri": "https://localhost:8080/"
        },
        "id": "qrk1OjrZmJoq",
        "outputId": "4fee6fcf-c278-43e3-b761-2437bc0af568"
      },
      "execution_count": 1,
      "outputs": [
        {
          "output_type": "stream",
          "name": "stdout",
          "text": [
            "Collecting tensorflow_addons\n",
            "  Downloading tensorflow_addons-0.15.0-cp37-cp37m-manylinux_2_12_x86_64.manylinux2010_x86_64.whl (1.1 MB)\n",
            "\u001b[K     |████████████████████████████████| 1.1 MB 5.5 MB/s \n",
            "\u001b[?25hRequirement already satisfied: typeguard>=2.7 in /usr/local/lib/python3.7/dist-packages (from tensorflow_addons) (2.7.1)\n",
            "Installing collected packages: tensorflow-addons\n",
            "Successfully installed tensorflow-addons-0.15.0\n"
          ]
        }
      ]
    },
    {
      "cell_type": "code",
      "execution_count": 2,
      "metadata": {
        "id": "XbyZT9iGxPdK"
      },
      "outputs": [],
      "source": [
        "from keras import backend as K\n",
        "def recall_m(y_true, y_pred):\n",
        "    true_positives = K.sum(K.round(K.clip(y_true * y_pred, 0, 1)))\n",
        "    possible_positives = K.sum(K.round(K.clip(y_true, 0, 1)))\n",
        "    recall = true_positives / (possible_positives + K.epsilon())\n",
        "    return recall\n",
        "\n",
        "def precision_m(y_true, y_pred):\n",
        "    true_positives = K.sum(K.round(K.clip(y_true * y_pred, 0, 1)))\n",
        "    predicted_positives = K.sum(K.round(K.clip(y_pred, 0, 1)))\n",
        "    precision = true_positives / (predicted_positives + K.epsilon())\n",
        "    return precision\n",
        "\n",
        "def f1_m(y_true, y_pred):\n",
        "    precision = precision_m(y_true, y_pred)\n",
        "    recall = recall_m(y_true, y_pred)\n",
        "    return 2*((precision*recall)/(precision+recall+K.epsilon()))"
      ]
    },
    {
      "cell_type": "code",
      "execution_count": 3,
      "metadata": {
        "id": "z9qaEwiW5_KT"
      },
      "outputs": [],
      "source": [
        "import os\n",
        "import numpy\n",
        "numpy.random.seed(1337)\n",
        "import urllib\n",
        "import matplotlib.pyplot as plt\n",
        "import seaborn as sns\n",
        "import zipfile\n",
        "import tensorflow as tf\n",
        "import tensorflow_addons as tfa\n",
        "import os\n",
        "import PIL\n",
        "\n",
        "from tensorflow import keras\n",
        "from tensorflow.keras.applications import InceptionV3, MobileNetV2, ResNet50\n",
        "from tensorflow.keras.preprocessing import image\n",
        "from tensorflow.keras.models import Model\n",
        "from tensorflow.keras.layers import Dense, GlobalAveragePooling2D, Dropout\n",
        "from tensorflow.keras.utils import get_file\n",
        "from tensorflow import expand_dims\n",
        "from tensorflow.nn import softmax\n",
        "from tensorflow.keras.models import Sequential, save_model, load_model\n",
        "from sklearn.metrics import classification_report, confusion_matrix\n",
        "\n",
        "from tensorflow import keras\n",
        "from tensorflow.keras import layers\n",
        "from tensorflow.keras.models import Sequential\n",
        "#Tutorial https://www.tensorflow.org/tutorials/images/classification"
      ]
    },
    {
      "cell_type": "markdown",
      "metadata": {
        "id": "sTQAgmxDAuhZ"
      },
      "source": [
        "## Load Dataset"
      ]
    },
    {
      "cell_type": "code",
      "execution_count": 4,
      "metadata": {
        "id": "lOCgLHS3AuB7"
      },
      "outputs": [],
      "source": [
        "project_dir = os.path.join('/', 'content')\n",
        "dataset_file = os.path.join(project_dir, 'BlackSea.zip')\n",
        "dataset_file_path = os.path.join(project_dir, 'BlackSea')\n",
        "\n",
        "if not os.path.isdir(dataset_file_path):\n",
        "    # download dataset if it does not exist\n",
        "    url = 'http://users.uoa.gr/~nalygizakis/BS/Predicted%20spatial%20distribution%20dataset.zip'\n",
        "    urllib.request.urlretrieve(url, dataset_file)\n",
        "    # extract images\n",
        "    with zipfile.ZipFile(dataset_file, 'r') as zip_ref:\n",
        "        zip_ref.extractall(dataset_file_path)\n",
        "\n",
        "dataset_train = os.path.join(dataset_file_path, 'train')\n",
        "dataset_evaluation = os.path.join(dataset_file_path, 'evaluation')"
      ]
    },
    {
      "cell_type": "code",
      "execution_count": 5,
      "metadata": {
        "colab": {
          "base_uri": "https://localhost:8080/",
          "height": 0
        },
        "id": "k3fKEBZS0BaQ",
        "outputId": "2a70e416-b6e1-4fa9-8f55-3463415fe1b9"
      },
      "outputs": [
        {
          "output_type": "execute_result",
          "data": {
            "application/vnd.google.colaboratory.intrinsic+json": {
              "type": "string"
            },
            "text/plain": [
              "'/content/BlackSea/train'"
            ]
          },
          "metadata": {},
          "execution_count": 5
        }
      ],
      "source": [
        "dataset_train"
      ]
    },
    {
      "cell_type": "code",
      "execution_count": 6,
      "metadata": {
        "colab": {
          "base_uri": "https://localhost:8080/",
          "height": 0
        },
        "id": "c7bUOEw30BaR",
        "outputId": "0f7496f8-dfeb-4e7a-f6d4-674adeb9abe3"
      },
      "outputs": [
        {
          "output_type": "execute_result",
          "data": {
            "application/vnd.google.colaboratory.intrinsic+json": {
              "type": "string"
            },
            "text/plain": [
              "'/content/BlackSea/evaluation'"
            ]
          },
          "metadata": {},
          "execution_count": 6
        }
      ],
      "source": [
        "dataset_evaluation"
      ]
    },
    {
      "cell_type": "markdown",
      "metadata": {
        "id": "F1EmdPK7A5Tj"
      },
      "source": [
        "## Train, Validation and Test Generators"
      ]
    },
    {
      "cell_type": "code",
      "execution_count": 7,
      "metadata": {
        "id": "GOzbLuAW2AG2"
      },
      "outputs": [],
      "source": [
        "batch_size = 32\n",
        "img_height = 150\n",
        "img_width = 150"
      ]
    },
    {
      "cell_type": "code",
      "execution_count": 8,
      "metadata": {
        "id": "lzdCiOx4B9vh"
      },
      "outputs": [],
      "source": [
        "datagen = image.ImageDataGenerator(\n",
        "    rescale=1./255,\n",
        "    shear_range=0.2,\n",
        "    zoom_range=0.2,\n",
        "    validation_split=0.2)"
      ]
    },
    {
      "cell_type": "code",
      "execution_count": 9,
      "metadata": {
        "colab": {
          "base_uri": "https://localhost:8080/"
        },
        "id": "Yf1__QmcA4qa",
        "outputId": "7cb581b4-71c7-4363-a2fe-4454acbac8f9"
      },
      "outputs": [
        {
          "output_type": "stream",
          "name": "stdout",
          "text": [
            "Found 1126 images belonging to 3 classes.\n"
          ]
        }
      ],
      "source": [
        "train_generator = datagen.flow_from_directory(\n",
        "    dataset_train, \n",
        "    target_size=(img_height, img_width), \n",
        "    batch_size=batch_size, \n",
        "    class_mode='categorical', \n",
        "    subset='training')"
      ]
    },
    {
      "cell_type": "code",
      "execution_count": 10,
      "metadata": {
        "colab": {
          "base_uri": "https://localhost:8080/"
        },
        "id": "48IOOsS84H0R",
        "outputId": "bf2ead73-7e92-4567-a047-992cdfaf6281"
      },
      "outputs": [
        {
          "output_type": "stream",
          "name": "stdout",
          "text": [
            "Found 1406 files belonging to 3 classes.\n",
            "Using 1125 files for training.\n"
          ]
        }
      ],
      "source": [
        "train_ds = tf.keras.preprocessing.image_dataset_from_directory(\n",
        "  'BlackSea/train',\n",
        "  validation_split=0.2,\n",
        "  subset=\"training\",\n",
        "  seed=123,\n",
        "  image_size=(img_height, img_width),\n",
        "  batch_size=batch_size)"
      ]
    },
    {
      "cell_type": "code",
      "execution_count": 11,
      "metadata": {
        "colab": {
          "base_uri": "https://localhost:8080/",
          "height": 353
        },
        "id": "cBmbVCBi7VxS",
        "outputId": "de67a633-97c6-4358-bccf-c2719b3ba845"
      },
      "outputs": [
        {
          "output_type": "stream",
          "name": "stdout",
          "text": [
            "['Danube', 'Dnieper', 'UnknownOrigin']\n"
          ]
        },
        {
          "output_type": "display_data",
          "data": {
            "image/png": "[encoded data removed]",
            "text/plain": [
              "<Figure size 1296x1296 with 3 Axes>"
            ]
          },
          "metadata": {
            "needs_background": "light"
          }
        }
      ],
      "source": [
        "class_names = train_ds.class_names\n",
        "print(class_names)\n",
        "\n",
        "plt.figure(figsize=(18, 18))\n",
        "for images, labels in train_ds.take(1):\n",
        "  for i in range(3):\n",
        "    ax = plt.subplot(3, 3, i + 1)\n",
        "    plt.imshow(images[i].numpy().astype(\"uint8\"))\n",
        "    plt.title(class_names[labels[i]])\n",
        "    plt.axis(\"off\")"
      ]
    },
    {
      "cell_type": "code",
      "execution_count": 12,
      "metadata": {
        "colab": {
          "base_uri": "https://localhost:8080/"
        },
        "id": "L-i9sojx0BaU",
        "outputId": "46b1d062-9ab1-4f9a-d26f-9d7d64b4f3db"
      },
      "outputs": [
        {
          "output_type": "stream",
          "name": "stdout",
          "text": [
            "Found 280 images belonging to 3 classes.\n"
          ]
        }
      ],
      "source": [
        "validation_generator = datagen.flow_from_directory(\n",
        "    dataset_train, \n",
        "    target_size=(img_height, img_width), \n",
        "    batch_size=batch_size, \n",
        "    class_mode='categorical', \n",
        "    subset='validation')"
      ]
    },
    {
      "cell_type": "code",
      "execution_count": 13,
      "metadata": {
        "colab": {
          "base_uri": "https://localhost:8080/"
        },
        "id": "WWhKPEQH4MyV",
        "outputId": "e1391efc-47d0-4f7c-face-9a1c98b56933"
      },
      "outputs": [
        {
          "output_type": "stream",
          "name": "stdout",
          "text": [
            "Found 1406 files belonging to 3 classes.\n",
            "Using 281 files for validation.\n"
          ]
        }
      ],
      "source": [
        "val_ds = tf.keras.preprocessing.image_dataset_from_directory(\n",
        "  'BlackSea/train',\n",
        "  validation_split=0.2,\n",
        "  subset=\"validation\",\n",
        "  seed=123,\n",
        "  image_size=(img_height, img_width),\n",
        "  batch_size=batch_size)"
      ]
    },
    {
      "cell_type": "code",
      "execution_count": 14,
      "metadata": {
        "id": "PGS9G1yY7lTF"
      },
      "outputs": [],
      "source": [
        "#AUTOTUNE = tf.data.AUTOTUNE\n",
        "#\n",
        "#train_ds = train_ds.cache().shuffle(1000).prefetch(buffer_size=AUTOTUNE)\n",
        "#val_ds = val_ds.cache().prefetch(buffer_size=AUTOTUNE)"
      ]
    },
    {
      "cell_type": "code",
      "execution_count": 15,
      "metadata": {
        "colab": {
          "base_uri": "https://localhost:8080/"
        },
        "id": "EFlYlQW-0BaU",
        "outputId": "5367dad5-7f0e-4c57-b172-0c911bf740ac"
      },
      "outputs": [
        {
          "output_type": "stream",
          "name": "stdout",
          "text": [
            "Found 224 images belonging to 3 classes.\n"
          ]
        }
      ],
      "source": [
        "test_generator = datagen.flow_from_directory(\n",
        "    dataset_evaluation, \n",
        "    target_size=(img_height, img_height), \n",
        "    batch_size=batch_size, \n",
        "    shuffle = False,\n",
        "    class_mode='categorical')"
      ]
    },
    {
      "cell_type": "code",
      "execution_count": 16,
      "metadata": {
        "colab": {
          "base_uri": "https://localhost:8080/"
        },
        "id": "U1R-mmwD4ahk",
        "outputId": "d6b91b8e-73b0-4f04-c9d7-9770918cf0b3"
      },
      "outputs": [
        {
          "output_type": "stream",
          "name": "stdout",
          "text": [
            "Found 224 files belonging to 3 classes.\n"
          ]
        }
      ],
      "source": [
        "test_ds = tf.keras.preprocessing.image_dataset_from_directory(\n",
        "  'BlackSea/evaluation',\n",
        "  seed=123,\n",
        "  image_size=(img_height, img_width),\n",
        "  shuffle = False,\n",
        "  batch_size=batch_size)"
      ]
    },
    {
      "cell_type": "markdown",
      "metadata": {
        "id": "TJSJFYZb0BaV"
      },
      "source": [
        "The number of images are correct. We have in total 1406 which were split in training set (1126 images) and validation set (280 images). Finally there are 224 images as the test set."
      ]
    },
    {
      "cell_type": "code",
      "execution_count": 17,
      "metadata": {
        "colab": {
          "base_uri": "https://localhost:8080/"
        },
        "id": "KCOzteRGBUAd",
        "outputId": "17a2a93b-b62e-41cd-bc4d-b4852354e9e0"
      },
      "outputs": [
        {
          "output_type": "stream",
          "name": "stdout",
          "text": [
            "7\n"
          ]
        }
      ],
      "source": [
        "test_steps_per_epoch = numpy.math.ceil(test_generator.samples / test_generator.batch_size)\n",
        "print(test_steps_per_epoch)"
      ]
    },
    {
      "cell_type": "code",
      "execution_count": 18,
      "metadata": {
        "id": "AN3P4Glv7-14"
      },
      "outputs": [],
      "source": [
        "num_classes = 3"
      ]
    },
    {
      "cell_type": "markdown",
      "metadata": {
        "id": "0egjiA5w0BaZ"
      },
      "source": [
        "# 1.Basic tensorflow CNN"
      ]
    },
    {
      "cell_type": "code",
      "execution_count": 21,
      "metadata": {
        "id": "WEyY0lrz0Bab"
      },
      "outputs": [],
      "source": [
        "model_CNN1 = Sequential([\n",
        "  layers.experimental.preprocessing.Rescaling(1./255, input_shape=(img_height, img_width, 3)),\n",
        "  layers.Conv2D(16, 3, padding='same', activation='relu'),\n",
        "  layers.MaxPooling2D(),\n",
        "  layers.Conv2D(32, 3, padding='same', activation='relu'),\n",
        "  layers.MaxPooling2D(),\n",
        "  layers.Dropout(0.2),\n",
        "  layers.Flatten(),\n",
        "  layers.Dense(128, activation='relu'),\n",
        "  layers.Dense(num_classes)\n",
        "])"
      ]
    },
    {
      "cell_type": "code",
      "execution_count": 22,
      "metadata": {
        "id": "-iRqtbGO0Bab"
      },
      "outputs": [],
      "source": [
        "model_CNN1.compile(optimizer='adam',\n",
        "              loss=tf.keras.losses.SparseCategoricalCrossentropy(from_logits=True),\n",
        "               metrics=['acc', f1_m, precision_m, recall_m])"
      ]
    },
    {
      "cell_type": "code",
      "execution_count": 23,
      "metadata": {
        "colab": {
          "base_uri": "https://localhost:8080/"
        },
        "id": "emVI8BQU0Bab",
        "outputId": "060568ff-e2d6-462c-8677-8736d06ff747"
      },
      "outputs": [
        {
          "output_type": "stream",
          "name": "stdout",
          "text": [
            "Model: \"sequential\"\n",
            "_________________________________________________________________\n",
            " Layer (type)                Output Shape              Param #   \n",
            "=================================================================\n",
            " rescaling (Rescaling)       (None, 150, 150, 3)       0         \n",
            "                                                                 \n",
            " conv2d (Conv2D)             (None, 150, 150, 16)      448       \n",
            "                                                                 \n",
            " max_pooling2d (MaxPooling2D  (None, 75, 75, 16)       0         \n",
            " )                                                               \n",
            "                                                                 \n",
            " conv2d_1 (Conv2D)           (None, 75, 75, 32)        4640      \n",
            "                                                                 \n",
            " max_pooling2d_1 (MaxPooling  (None, 37, 37, 32)       0         \n",
            " 2D)                                                             \n",
            "                                                                 \n",
            " dropout (Dropout)           (None, 37, 37, 32)        0         \n",
            "                                                                 \n",
            " flatten (Flatten)           (None, 43808)             0         \n",
            "                                                                 \n",
            " dense (Dense)               (None, 128)               5607552   \n",
            "                                                                 \n",
            " dense_1 (Dense)             (None, 3)                 387       \n",
            "                                                                 \n",
            "=================================================================\n",
            "Total params: 5,613,027\n",
            "Trainable params: 5,613,027\n",
            "Non-trainable params: 0\n",
            "_________________________________________________________________\n"
          ]
        }
      ],
      "source": [
        "model_CNN1.summary()"
      ]
    },
    {
      "cell_type": "code",
      "source": [
        "callback = tf.keras.callbacks.EarlyStopping(monitor='f1_m', patience=10)\n",
        "epochs = 100"
      ],
      "metadata": {
        "id": "U-GlfAW_mksk"
      },
      "execution_count": 24,
      "outputs": []
    },
    {
      "cell_type": "code",
      "execution_count": 25,
      "metadata": {
        "colab": {
          "base_uri": "https://localhost:8080/"
        },
        "id": "2Iyobyk_0Bac",
        "outputId": "19b7bfaa-8f57-41c2-a604-2475395dd04c"
      },
      "outputs": [
        {
          "output_type": "stream",
          "name": "stdout",
          "text": [
            "Epoch 1/100\n",
            "36/36 [==============================] - 27s 695ms/step - loss: 0.7731 - acc: 0.8516 - f1_m: 0.7035 - precision_m: 0.5469 - recall_m: 1.2629 - val_loss: 0.0437 - val_acc: 0.9893 - val_f1_m: 0.6415 - val_precision_m: 0.4454 - val_recall_m: 1.1716\n",
            "Epoch 2/100\n",
            "36/36 [==============================] - 27s 730ms/step - loss: 0.0632 - acc: 0.9813 - f1_m: 0.7927 - precision_m: 0.5693 - recall_m: 1.3403 - val_loss: 0.0602 - val_acc: 0.9893 - val_f1_m: 0.7156 - val_precision_m: 0.4892 - val_recall_m: 1.3591\n",
            "Epoch 3/100\n",
            "36/36 [==============================] - 27s 732ms/step - loss: 0.0725 - acc: 0.9769 - f1_m: 0.8274 - precision_m: 0.5956 - recall_m: 1.3923 - val_loss: 0.0248 - val_acc: 0.9929 - val_f1_m: 0.7882 - val_precision_m: 0.5609 - val_recall_m: 1.3657\n",
            "Epoch 4/100\n",
            "36/36 [==============================] - 24s 663ms/step - loss: 0.0413 - acc: 0.9858 - f1_m: 0.8497 - precision_m: 0.5986 - recall_m: 1.5068 - val_loss: 0.0313 - val_acc: 0.9893 - val_f1_m: 0.8062 - val_precision_m: 0.5731 - val_recall_m: 1.3912\n",
            "Epoch 5/100\n",
            "36/36 [==============================] - 24s 658ms/step - loss: 0.0450 - acc: 0.9876 - f1_m: 0.8615 - precision_m: 0.6099 - recall_m: 1.5257 - val_loss: 0.0356 - val_acc: 0.9858 - val_f1_m: 0.8051 - val_precision_m: 0.5753 - val_recall_m: 1.3550\n",
            "Epoch 6/100\n",
            "36/36 [==============================] - 24s 649ms/step - loss: 0.0423 - acc: 0.9884 - f1_m: 0.8419 - precision_m: 0.6064 - recall_m: 1.3951 - val_loss: 0.0301 - val_acc: 0.9929 - val_f1_m: 0.7790 - val_precision_m: 0.5589 - val_recall_m: 1.3103\n",
            "Epoch 7/100\n",
            "36/36 [==============================] - 24s 652ms/step - loss: 0.0555 - acc: 0.9796 - f1_m: 0.8264 - precision_m: 0.6023 - recall_m: 1.3424 - val_loss: 0.0314 - val_acc: 0.9929 - val_f1_m: 0.8089 - val_precision_m: 0.5876 - val_recall_m: 1.3220\n",
            "Epoch 8/100\n",
            "36/36 [==============================] - 24s 659ms/step - loss: 0.0344 - acc: 0.9902 - f1_m: 0.8508 - precision_m: 0.6214 - recall_m: 1.3631 - val_loss: 0.0329 - val_acc: 0.9929 - val_f1_m: 0.7808 - val_precision_m: 0.5644 - val_recall_m: 1.3190\n",
            "Epoch 9/100\n",
            "36/36 [==============================] - 25s 665ms/step - loss: 0.0371 - acc: 0.9867 - f1_m: 0.8103 - precision_m: 0.6020 - recall_m: 1.2573 - val_loss: 0.0370 - val_acc: 0.9893 - val_f1_m: 0.8160 - val_precision_m: 0.6042 - val_recall_m: 1.2853\n",
            "Epoch 10/100\n",
            "36/36 [==============================] - 24s 660ms/step - loss: 0.0366 - acc: 0.9876 - f1_m: 0.7781 - precision_m: 0.5883 - recall_m: 1.1752 - val_loss: 0.0427 - val_acc: 0.9893 - val_f1_m: 0.7426 - val_precision_m: 0.5452 - val_recall_m: 1.1834\n",
            "Epoch 11/100\n",
            "36/36 [==============================] - 24s 657ms/step - loss: 0.0358 - acc: 0.9884 - f1_m: 0.7859 - precision_m: 0.5936 - recall_m: 1.1929 - val_loss: 0.0316 - val_acc: 0.9929 - val_f1_m: 0.7984 - val_precision_m: 0.5894 - val_recall_m: 1.2720\n"
          ]
        }
      ],
      "source": [
        "history_CNN1 = model_CNN1.fit(train_ds,\n",
        "                    validation_data=val_ds,\n",
        "                    callbacks=[callback],\n",
        "                    epochs=epochs)"
      ]
    },
    {
      "cell_type": "code",
      "execution_count": 26,
      "metadata": {
        "colab": {
          "base_uri": "https://localhost:8080/"
        },
        "id": "vr39Ffrf0goB",
        "outputId": "f802a7f6-3c62-4d0b-e00e-6f162df9085e"
      },
      "outputs": [
        {
          "output_type": "stream",
          "name": "stdout",
          "text": [
            "Test loss: 0.02286449447274208\n",
            "Test accuracy: 1.0\n",
            "INFO:tensorflow:Assets written to: ./model_CNN1/assets\n",
            "WARNING:tensorflow:Unable to restore custom metric. Please ensure that the layer implements `get_config` and `from_config` when saving. In addition, please use the `custom_objects` arg when calling `load_model()`.\n",
            "WARNING:tensorflow:Unable to restore custom metric. Please ensure that the layer implements `get_config` and `from_config` when saving. In addition, please use the `custom_objects` arg when calling `load_model()`.\n",
            "WARNING:tensorflow:Unable to restore custom metric. Please ensure that the layer implements `get_config` and `from_config` when saving. In addition, please use the `custom_objects` arg when calling `load_model()`.\n"
          ]
        }
      ],
      "source": [
        "score = model_CNN1.evaluate(test_ds, verbose=0)\n",
        "print(\"Test loss:\", score[0])\n",
        "print(\"Test accuracy:\", score[1])\n",
        "\n",
        "\n",
        "# Save the model\n",
        "filepath = './model_CNN1'\n",
        "save_model(model_CNN1, filepath)\n",
        "\n",
        "# Load the model\n",
        "model = load_model(filepath, compile = False)"
      ]
    },
    {
      "cell_type": "code",
      "execution_count": 27,
      "metadata": {
        "colab": {
          "base_uri": "https://localhost:8080/",
          "height": 499
        },
        "id": "sOt2_T1F-vAJ",
        "outputId": "074690e9-d99b-4342-bf5b-86dc1efa991c"
      },
      "outputs": [
        {
          "output_type": "display_data",
          "data": {
            "image/png": "[encoded data removed]",
            "text/plain": [
              "<Figure size 576x576 with 2 Axes>"
            ]
          },
          "metadata": {
            "needs_background": "light"
          }
        }
      ],
      "source": [
        "acc = history_CNN1.history['f1_m']\n",
        "val_acc = history_CNN1.history['val_f1_m']\n",
        "\n",
        "loss = history_CNN1.history['loss']\n",
        "val_loss = history_CNN1.history['val_loss']\n",
        "\n",
        "epochs_range = range(len(acc))\n",
        "\n",
        "plt.figure(figsize=(8, 8))\n",
        "plt.subplot(1, 2, 1)\n",
        "plt.plot(epochs_range, acc, label='Training Accuracy')\n",
        "plt.plot(epochs_range, val_acc, label='Validation Accuracy')\n",
        "plt.legend(loc='lower right')\n",
        "plt.title('Training and Validation Accuracy')\n",
        "\n",
        "plt.subplot(1, 2, 2)\n",
        "plt.plot(epochs_range, loss, label='Training Loss')\n",
        "plt.plot(epochs_range, val_loss, label='Validation Loss')\n",
        "plt.legend(loc='upper right')\n",
        "plt.title('Training and Validation Loss')\n",
        "plt.show()"
      ]
    },
    {
      "cell_type": "code",
      "execution_count": 28,
      "metadata": {
        "colab": {
          "base_uri": "https://localhost:8080/"
        },
        "id": "9QnrNrEr0Bac",
        "outputId": "6de26d74-8b8e-4a39-c114-be301d90a20f"
      },
      "outputs": [
        {
          "output_type": "execute_result",
          "data": {
            "text/plain": [
              "array([0, 0, 0, 0, 0, 0, 0, 0, 0, 0, 0, 0, 0, 0, 0, 0, 0, 0, 0, 0, 0, 0,\n",
              "       0, 0, 0, 0, 0, 0, 0, 0, 0, 0, 0, 0, 0, 0, 0, 0, 0, 0, 0, 0, 0, 0,\n",
              "       0, 0, 0, 0, 0, 0, 0, 0, 0, 0, 0, 0, 0, 0, 0, 0, 0, 0, 0, 0, 0, 0,\n",
              "       0, 0, 0, 0, 0, 0, 0, 0, 0, 0, 0, 0, 0, 0, 0, 0, 0, 0, 0, 0, 0, 0,\n",
              "       0, 0, 0, 0, 0, 0, 0, 0, 0, 0, 0, 0, 0, 0, 0, 0, 0, 0, 0, 0, 0, 1,\n",
              "       1, 1, 1, 1, 1, 1, 1, 1, 1, 1, 1, 1, 1, 1, 1, 1, 1, 1, 1, 1, 1, 1,\n",
              "       1, 1, 1, 1, 1, 1, 1, 1, 1, 1, 1, 1, 1, 1, 1, 1, 1, 1, 1, 1, 1, 1,\n",
              "       1, 1, 1, 1, 1, 1, 1, 1, 1, 1, 1, 1, 1, 1, 1, 1, 1, 1, 1, 1, 1, 1,\n",
              "       1, 1, 1, 1, 1, 1, 1, 1, 1, 1, 1, 2, 2, 2, 2, 2, 2, 2, 2, 2, 2, 2,\n",
              "       2, 2, 2, 2, 2, 2, 2, 2, 2, 2, 2, 2, 2, 2, 2, 2, 2, 2, 2, 2, 2, 2,\n",
              "       2, 2, 2, 2])"
            ]
          },
          "metadata": {},
          "execution_count": 28
        }
      ],
      "source": [
        "predictions = model_CNN1.predict(test_ds, steps=test_steps_per_epoch)\n",
        "# Get most likely class\n",
        "predicted_classes = numpy.argmax(predictions, axis=1)\n",
        "predicted_classes"
      ]
    },
    {
      "cell_type": "code",
      "execution_count": 29,
      "metadata": {
        "colab": {
          "base_uri": "https://localhost:8080/"
        },
        "id": "j5X_d4knWrSe",
        "outputId": "91b9a181-164c-47b3-b4ea-832fdb6eb202"
      },
      "outputs": [
        {
          "output_type": "execute_result",
          "data": {
            "text/plain": [
              "array([0, 0, 0, 0, 0, 0, 0, 0, 0, 0, 0, 0, 0, 0, 0, 0, 0, 0, 0, 0, 0, 0,\n",
              "       0, 0, 0, 0, 0, 0, 0, 0, 0, 0, 0, 0, 0, 0, 0, 0, 0, 0, 0, 0, 0, 0,\n",
              "       0, 0, 0, 0, 0, 0, 0, 0, 0, 0, 0, 0, 0, 0, 0, 0, 0, 0, 0, 0, 0, 0,\n",
              "       0, 0, 0, 0, 0, 0, 0, 0, 0, 0, 0, 0, 0, 0, 0, 0, 0, 0, 0, 0, 0, 0,\n",
              "       0, 0, 0, 0, 0, 0, 0, 0, 0, 0, 0, 0, 0, 0, 0, 0, 0, 0, 0, 0, 0, 1,\n",
              "       1, 1, 1, 1, 1, 1, 1, 1, 1, 1, 1, 1, 1, 1, 1, 1, 1, 1, 1, 1, 1, 1,\n",
              "       1, 1, 1, 1, 1, 1, 1, 1, 1, 1, 1, 1, 1, 1, 1, 1, 1, 1, 1, 1, 1, 1,\n",
              "       1, 1, 1, 1, 1, 1, 1, 1, 1, 1, 1, 1, 1, 1, 1, 1, 1, 1, 1, 1, 1, 1,\n",
              "       1, 1, 1, 1, 1, 1, 1, 1, 1, 1, 1, 2, 2, 2, 2, 2, 2, 2, 2, 2, 2, 2,\n",
              "       2, 2, 2, 2, 2, 2, 2, 2, 2, 2, 2, 2, 2, 2, 2, 2, 2, 2, 2, 2, 2, 2,\n",
              "       2, 2, 2, 2], dtype=int32)"
            ]
          },
          "metadata": {},
          "execution_count": 29
        }
      ],
      "source": [
        "true_classes = test_generator.classes #true_classes = test_ds.class_names\n",
        "true_classes"
      ]
    },
    {
      "cell_type": "code",
      "execution_count": 30,
      "metadata": {
        "colab": {
          "base_uri": "https://localhost:8080/"
        },
        "id": "PxViYn_CWrSe",
        "outputId": "104aeb0c-79b4-446b-e73b-39abca96ee2a"
      },
      "outputs": [
        {
          "output_type": "execute_result",
          "data": {
            "text/plain": [
              "['Danube', 'Dnieper', 'UnknownOrigin']"
            ]
          },
          "metadata": {},
          "execution_count": 30
        }
      ],
      "source": [
        "class_labels = list(test_generator.class_indices.keys())\n",
        "class_labels"
      ]
    },
    {
      "cell_type": "code",
      "execution_count": 31,
      "metadata": {
        "colab": {
          "base_uri": "https://localhost:8080/",
          "height": 639
        },
        "id": "AJAcOrW9WrSe",
        "outputId": "339adea3-f214-40e9-a01d-bb6a94eb9ce7"
      },
      "outputs": [
        {
          "output_type": "stream",
          "name": "stdout",
          "text": [
            "               precision    recall  f1-score   support\n",
            "\n",
            "       Danube       1.00      1.00      1.00       109\n",
            "      Dnieper       1.00      1.00      1.00        78\n",
            "UnknownOrigin       1.00      1.00      1.00        37\n",
            "\n",
            "     accuracy                           1.00       224\n",
            "    macro avg       1.00      1.00      1.00       224\n",
            " weighted avg       1.00      1.00      1.00       224\n",
            "\n"
          ]
        },
        {
          "output_type": "display_data",
          "data": {
            "image/png": "[encoded data removed]",
            "text/plain": [
              "<Figure size 720x504 with 2 Axes>"
            ]
          },
          "metadata": {
            "needs_background": "light"
          }
        }
      ],
      "source": [
        "report = classification_report(true_classes, predicted_classes, target_names=class_labels, zero_division=0)\n",
        "print(report)\n",
        "cmrforest = confusion_matrix(true_classes, predicted_classes)\n",
        "plt.figure(figsize=(10,7))\n",
        "sns.heatmap(cmrforest ,annot=True , fmt = 'd')\n",
        "plt.xlabel('Predicted')\n",
        "plt.ylabel('Truth')\n",
        "plt.title('Confusion Report')\n",
        "plt.show()"
      ]
    },
    {
      "cell_type": "markdown",
      "metadata": {
        "id": "C2QlIy1xWrSe"
      },
      "source": [
        "# Predictions"
      ]
    },
    {
      "cell_type": "code",
      "source": [
        "dataset_for_prediction = os.path.join(dataset_file_path, 'prediction')\n",
        "dataset_for_prediction"
      ],
      "metadata": {
        "colab": {
          "base_uri": "https://localhost:8080/",
          "height": 35
        },
        "id": "aoG2q52ykO8J",
        "outputId": "bf87221a-b845-4044-a56d-d19c48487461"
      },
      "execution_count": 47,
      "outputs": [
        {
          "output_type": "execute_result",
          "data": {
            "application/vnd.google.colaboratory.intrinsic+json": {
              "type": "string"
            },
            "text/plain": [
              "'/content/BlackSea/prediction'"
            ]
          },
          "metadata": {},
          "execution_count": 47
        }
      ]
    },
    {
      "cell_type": "code",
      "source": [
        "dataset_for_prediction = datagen.flow_from_directory(\n",
        "    dataset_for_prediction, \n",
        "    target_size=(img_height, img_height), \n",
        "    batch_size=batch_size, \n",
        "    shuffle = False,\n",
        "    class_mode='categorical')"
      ],
      "metadata": {
        "colab": {
          "base_uri": "https://localhost:8080/"
        },
        "id": "XS7OVuQXjY9_",
        "outputId": "f0df5473-88e1-4258-d502-485834e05f4c"
      },
      "execution_count": 48,
      "outputs": [
        {
          "output_type": "stream",
          "name": "stdout",
          "text": [
            "Found 30489 images belonging to 1 classes.\n"
          ]
        }
      ]
    },
    {
      "cell_type": "code",
      "source": [
        "dataset_for_prediction = tf.keras.preprocessing.image_dataset_from_directory(\n",
        "  'BlackSea/prediction',\n",
        "  seed=123,\n",
        "  image_size=(img_height, img_width),\n",
        "  shuffle = False,\n",
        "  batch_size=batch_size)"
      ],
      "metadata": {
        "colab": {
          "base_uri": "https://localhost:8080/"
        },
        "id": "pmZ72T_blibO",
        "outputId": "e1047ada-5747-4a88-c2dd-30ff7e2abb66"
      },
      "execution_count": 49,
      "outputs": [
        {
          "output_type": "stream",
          "name": "stdout",
          "text": [
            "Found 30489 files belonging to 1 classes.\n"
          ]
        }
      ]
    },
    {
      "cell_type": "code",
      "execution_count": 50,
      "metadata": {
        "id": "Qihdefi0WrSe"
      },
      "outputs": [],
      "source": [
        "predictions = model_CNN1.predict(dataset_for_prediction)"
      ]
    },
    {
      "cell_type": "code",
      "source": [
        "len(predictions)"
      ],
      "metadata": {
        "colab": {
          "base_uri": "https://localhost:8080/"
        },
        "id": "iDziKH2J14xA",
        "outputId": "fcc8f449-6d88-4c9c-fd2e-69a2cee626bb"
      },
      "execution_count": 51,
      "outputs": [
        {
          "output_type": "execute_result",
          "data": {
            "text/plain": [
              "30489"
            ]
          },
          "metadata": {},
          "execution_count": 51
        }
      ]
    },
    {
      "cell_type": "code",
      "source": [
        "predictions[1:10]"
      ],
      "metadata": {
        "colab": {
          "base_uri": "https://localhost:8080/"
        },
        "id": "4Dz-Xg5-3xib",
        "outputId": "f76d98ab-bb1a-4208-9df1-667987e62108"
      },
      "execution_count": 52,
      "outputs": [
        {
          "output_type": "execute_result",
          "data": {
            "text/plain": [
              "array([[ 5.3017187,  1.0853667, -7.0040984],\n",
              "       [-4.7547708,  7.3037767, -1.4437723],\n",
              "       [ 5.006926 , -1.0553998, -2.2026606],\n",
              "       [ 9.155664 , -2.329165 , -5.8794293],\n",
              "       [-4.678572 ,  7.4452076, -1.6684153],\n",
              "       [-3.7419634,  7.634418 , -2.8910692],\n",
              "       [-4.737501 ,  7.3450694, -1.502234 ],\n",
              "       [-3.993742 ,  4.8222804,  0.8692965],\n",
              "       [-3.5704474,  7.642258 , -3.1189241]], dtype=float32)"
            ]
          },
          "metadata": {},
          "execution_count": 52
        }
      ]
    },
    {
      "cell_type": "code",
      "source": [
        "# Get most likely class\n",
        "predicted_classes = numpy.argmax(predictions, axis=1)\n",
        "predicted_classes\n",
        "len(predicted_classes)"
      ],
      "metadata": {
        "colab": {
          "base_uri": "https://localhost:8080/"
        },
        "id": "qmydMt2f0nYW",
        "outputId": "00dfbee4-4e4e-401c-9de5-ddf75b7974a0"
      },
      "execution_count": 43,
      "outputs": [
        {
          "output_type": "execute_result",
          "data": {
            "text/plain": [
              "30489"
            ]
          },
          "metadata": {},
          "execution_count": 43
        }
      ]
    },
    {
      "cell_type": "code",
      "source": [
        "files_for_prediction = dataset_for_prediction.file_paths"
      ],
      "metadata": {
        "id": "nadc49QA5eCC"
      },
      "execution_count": 54,
      "outputs": []
    },
    {
      "cell_type": "code",
      "source": [
        "import pandas as pd\n",
        "df = pd.DataFrame({'x':files_for_prediction, 'y':predicted_classes})"
      ],
      "metadata": {
        "id": "rzAYiPuk5kod"
      },
      "execution_count": 56,
      "outputs": []
    },
    {
      "cell_type": "code",
      "source": [
        "df.to_csv(\"results.csv\")"
      ],
      "metadata": {
        "id": "l4zGh0pj1_a9"
      },
      "execution_count": 57,
      "outputs": []
    }
  ],
  "metadata": {
    "colab": {
      "collapsed_sections": [
        "sTQAgmxDAuhZ",
        "F1EmdPK7A5Tj"
      ],
      "name": "Make_predictions_CNN.ipynb",
      "provenance": []
    },
    "kernelspec": {
      "display_name": "Python 3 (ipykernel)",
      "language": "python",
      "name": "python3"
    },
    "language_info": {
      "codemirror_mode": {
        "name": "ipython",
        "version": 3
      },
      "file_extension": ".py",
      "mimetype": "text/x-python",
      "name": "python",
      "nbconvert_exporter": "python",
      "pygments_lexer": "ipython3",
      "version": "3.8.11"
    }
  },
  "nbformat": 4,
  "nbformat_minor": 0
}